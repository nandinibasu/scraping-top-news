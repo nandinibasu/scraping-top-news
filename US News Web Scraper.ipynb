{
 "cells": [
  {
   "cell_type": "code",
   "execution_count": 1,
   "metadata": {},
   "outputs": [
    {
     "name": "stderr",
     "output_type": "stream",
     "text": [
      "[nltk_data] Downloading package punkt to\n",
      "[nltk_data]     /Users/nandinibasu/nltk_data...\n",
      "[nltk_data]   Package punkt is already up-to-date!\n"
     ]
    }
   ],
   "source": [
    "# importing packages \n",
    "import requests \n",
    "\n",
    "from bs4 import BeautifulSoup \n",
    "\n",
    "import nltk\n",
    "nltk.download('punkt')\n",
    "from nltk import sent_tokenize"
   ]
  },
  {
   "cell_type": "code",
   "execution_count": 2,
   "metadata": {},
   "outputs": [],
   "source": [
    "# reading the main page and making soup \n",
    "page = requests.get(\"https://www.usnews.com/\", headers = {'User-Agent':'Mozilla/5.0'})\n",
    "soup1 = BeautifulSoup(page.content)"
   ]
  },
  {
   "cell_type": "code",
   "execution_count": 9,
   "metadata": {},
   "outputs": [],
   "source": [
    "# locating top stories\n",
    "topstories = soup1.find('div', attrs = {'class':'s85n6m5-0-Box-cwadsP kdRAHx'})"
   ]
  },
  {
   "cell_type": "code",
   "execution_count": 10,
   "metadata": {},
   "outputs": [],
   "source": [
    "topstories"
   ]
  },
  {
   "cell_type": "code",
   "execution_count": 5,
   "metadata": {},
   "outputs": [],
   "source": [
    "# storing top stories headers and links\n",
    "headers = []\n",
    "for content in topstories.find_all('div', \n",
    "    attrs = {'class':'ArmRestTopStories__CollapseBorderContentBox-s1vkad-0 kkieLV s85n6m5-0-Box-cwadsP fHRMIQ'}):\n",
    "    header = {}\n",
    "    header['title'] = content.h3.text\n",
    "    header['link'] = content.a['href']\n",
    "    headers.append(header)"
   ]
  },
  {
   "cell_type": "code",
   "execution_count": 6,
   "metadata": {},
   "outputs": [
    {
     "data": {
      "text/plain": [
       "[{'title': 'Buttigieg Takes Early Lead in Iowa',\n",
       "  'link': 'https://www.usnews.com/news/elections/articles/2020-02-04/pete-buttigieg-takes-early-lead-in-iowas-delayed-caucus-returns'},\n",
       " {'title': 'Lawmakers to Boycott Trump’s Address',\n",
       "  'link': 'https://www.usnews.com/news/politics/articles/2020-02-04/alexandria-ocasio-cortez-half-a-dozen-democrats-to-boycott-trumps-state-of-the-union'}]"
      ]
     },
     "execution_count": 6,
     "metadata": {},
     "output_type": "execute_result"
    }
   ],
   "source": [
    "headers"
   ]
  },
  {
   "cell_type": "code",
   "execution_count": 16,
   "metadata": {},
   "outputs": [
    {
     "name": "stdout",
     "output_type": "stream",
     "text": [
      "Study Finds Racial Gap in Cancer Care \n",
      "https://www.usnews.com/news/healthiest-communities/articles/2020-01-09/study-finds-racial-disparities-with-breast-cancer-diagnosis\n"
     ]
    }
   ],
   "source": [
    "# printing second top story and its link\n",
    "print(headers[1]['title'])\n",
    "print(headers[1]['link'])"
   ]
  },
  {
   "cell_type": "code",
   "execution_count": 17,
   "metadata": {},
   "outputs": [],
   "source": [
    "# navigating to second top story and making more soup\n",
    "second_topstory = requests.get(headers[1]['link'], headers = {'User-Agent':'Mozilla/5.0'})\n",
    "soup2 = BeautifulSoup(second_topstory.content)"
   ]
  },
  {
   "cell_type": "code",
   "execution_count": 18,
   "metadata": {},
   "outputs": [
    {
     "name": "stdout",
     "output_type": "stream",
     "text": [
      "Study Finds Racial Disparities With Breast Cancer Diagnosis\n"
     ]
    }
   ],
   "source": [
    "# reading and printing the header \n",
    "header = soup2.find('h1', attrs = {'class': 'sc-bdVaJa kwJVtY'}).text\n",
    "print(header)"
   ]
  },
  {
   "cell_type": "code",
   "execution_count": 19,
   "metadata": {},
   "outputs": [
    {
     "data": {
      "text/plain": [
       "'Racial and ethnic minority women are more likely than white women to be diagnosed with breast cancer at a later stage, according to a study released Thursday.The JAMA Oncology study, which included more than 177,000 women in its sample, found that higher percentages of black, American Indian or Alaskan Native and Hispanic women were diagnosed with stage 3 breast cancer than white and Asian or Pacific Islander women. All four racial and ethnic minorities studied were diagnosed with stage 2 breast cancer at higher levels than white women as well.These findings are significant, as the five-year survival rates of breast cancer decrease as the stage number increases, according to the study. The rate is nearly 100% for stages 0 and 1, 93% for stage 2 and 72% for stage 3. White women also had a higher proportion of health insurance coverage at the time of diagnosis compared to the minority women studied. Of the women studied, more than 148,000 had health insurance, while nearly 29,000 were uninsured or received Medicaid, according to the study.\"Without insurance coverage, the lack of prevention, screening, and access to care, as well as delays in diagnosis lead to a later stage of disease at diagnosis and thus worse survival,\" the study\\'s authors wrote.While the authors acknowledged that health insurance coverage alone will not eliminate the racial and ethnic disparities they found in breast cancer diagnosis, they noted that coverage mediates nearly half of the increased risk for minorities.\"Adequate insurance coverage for all patients with cancer is an important consideration and one major systemic change that can be pursued to ameliorate consistent disparities,\" the authors concluded.Women aged 40 to 64 were included in the study, which was conducted between Jan. 1, 2010, and Dec. 31, 2016. The data was then analyzed over a period of just more than two years, concluding on Oct. 1, 2019.'"
      ]
     },
     "execution_count": 19,
     "metadata": {},
     "output_type": "execute_result"
    }
   ],
   "source": [
    "# capturing text and converting into paragraph \n",
    "text = soup2.find('div', attrs = {'id':'ad-in-text-target',\n",
    "                                       'class':'s85n6m5-0-Box-cwadsP jxkEdK'})\n",
    "para = \"\"\n",
    "for content in text.find_all('div', attrs = {'class':'Raw-s14xcvr1-0 AXWJq'}):\n",
    "    sentance = \"\"\n",
    "    sentance = content.p.text\n",
    "    para = sentance if para == \"\" else para + sentance\n",
    "para"
   ]
  },
  {
   "cell_type": "code",
   "execution_count": 20,
   "metadata": {},
   "outputs": [
    {
     "name": "stdout",
     "output_type": "stream",
     "text": [
      "Racial and ethnic minority women are more likely than white women to be diagnosed with breast cancer at a later stage, according to a study released Thursday.The JAMA Oncology study, which included more than 177,000 women in its sample, found that higher percentages of black, American Indian or Alaskan Native and Hispanic women were diagnosed with stage 3 breast cancer than white and Asian or Pacific Islander women. All four racial and ethnic minorities studied were diagnosed with stage 2 breast cancer at higher levels than white women as well.These findings are significant, as the five-year survival rates of breast cancer decrease as the stage number increases, according to the study. The rate is nearly 100% for stages 0 and 1, 93% for stage 2 and 72% for stage 3.\n"
     ]
    }
   ],
   "source": [
    "# tokenizing sentences and printing first 3 sentences\n",
    "sent = sent_tokenize(para)\n",
    "print(sent[0] + \" \" + sent[1] + \" \" + sent[2])"
   ]
  },
  {
   "cell_type": "code",
   "execution_count": null,
   "metadata": {},
   "outputs": [],
   "source": []
  }
 ],
 "metadata": {
  "kernelspec": {
   "display_name": "Python 3",
   "language": "python",
   "name": "python3"
  },
  "language_info": {
   "codemirror_mode": {
    "name": "ipython",
    "version": 3
   },
   "file_extension": ".py",
   "mimetype": "text/x-python",
   "name": "python",
   "nbconvert_exporter": "python",
   "pygments_lexer": "ipython3",
   "version": "3.7.4"
  }
 },
 "nbformat": 4,
 "nbformat_minor": 2
}
